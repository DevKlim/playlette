{
 "cells": [
  {
   "cell_type": "code",
   "execution_count": 1,
   "id": "72c0e03f-2aad-4fcd-b7b4-2d80cf4cd340",
   "metadata": {},
   "outputs": [],
   "source": [
    "import polars as pl\n",
    "import os\n",
    "import matplotlib.pyplot as plt\n",
    "import seaborn as sns"
   ]
  },
  {
   "cell_type": "code",
   "execution_count": 2,
   "id": "7878ffcb-4032-422b-8a75-7c12dac1bce7",
   "metadata": {},
   "outputs": [
    {
     "data": {
      "text/plain": [
       "'/usr/src/app/notebooks'"
      ]
     },
     "execution_count": 2,
     "metadata": {},
     "output_type": "execute_result"
    }
   ],
   "source": [
    "os.getcwd()"
   ]
  },
  {
   "cell_type": "code",
   "execution_count": 3,
   "id": "1b14be04-0b91-400f-a92c-3f9be75338ae",
   "metadata": {},
   "outputs": [
    {
     "data": {
      "text/html": [
       "<div><style>\n",
       ".dataframe > thead > tr,\n",
       ".dataframe > tbody > tr {\n",
       "  text-align: right;\n",
       "  white-space: pre-wrap;\n",
       "}\n",
       "</style>\n",
       "<small>shape: (5, 21)</small><table border=\"1\" class=\"dataframe\"><thead><tr><th>id</th><th>name</th><th>artists</th><th>uri</th><th>danceability</th><th>energy</th><th>key</th><th>loudness</th><th>mode</th><th>speechiness</th><th>acousticness</th><th>instrumentalness</th><th>liveness</th><th>valence</th><th>tempo</th><th>type</th><th>uri_right</th><th>track_href</th><th>analysis_url</th><th>duration_ms</th><th>time_signature</th></tr><tr><td>str</td><td>str</td><td>str</td><td>str</td><td>f64</td><td>f64</td><td>i64</td><td>f64</td><td>i64</td><td>f64</td><td>f64</td><td>f64</td><td>f64</td><td>f64</td><td>f64</td><td>str</td><td>str</td><td>str</td><td>str</td><td>i64</td><td>i64</td></tr></thead><tbody><tr><td>&quot;1rsiw9PsbKWSb1O2QGXMHy&quot;</td><td>&quot;Bulldozer&quot;</td><td>&quot;Swings&quot;</td><td>&quot;spotify:track:1rsiw9PsbKWSb1O2…</td><td>0.663</td><td>0.912</td><td>4</td><td>-1.388</td><td>0</td><td>0.326</td><td>0.0829</td><td>0.0</td><td>0.128</td><td>0.717</td><td>149.202</td><td>&quot;audio_features&quot;</td><td>&quot;spotify:track:1rsiw9PsbKWSb1O2…</td><td>&quot;https://api.spotify.com/v1/tra…</td><td>&quot;https://api.spotify.com/v1/aud…</td><td>204800</td><td>4</td></tr><tr><td>&quot;2NCa2i9SAJ0dSm8QlUzEB9&quot;</td><td>&quot;Movie&quot;</td><td>&quot;PENOMECO&quot;</td><td>&quot;spotify:track:2NCa2i9SAJ0dSm8Q…</td><td>0.538</td><td>0.329</td><td>9</td><td>-7.583</td><td>1</td><td>0.15</td><td>0.594</td><td>0.0</td><td>0.228</td><td>0.509</td><td>91.793</td><td>&quot;audio_features&quot;</td><td>&quot;spotify:track:2NCa2i9SAJ0dSm8Q…</td><td>&quot;https://api.spotify.com/v1/tra…</td><td>&quot;https://api.spotify.com/v1/aud…</td><td>210870</td><td>4</td></tr><tr><td>&quot;1E8Cztx0OIj4zm1IZh2XXj&quot;</td><td>&quot;Like A Fool&quot;</td><td>&quot;NIve, Sam Kim&quot;</td><td>&quot;spotify:track:1E8Cztx0OIj4zm1I…</td><td>0.496</td><td>0.491</td><td>9</td><td>-8.628</td><td>1</td><td>0.287</td><td>0.55</td><td>0.0</td><td>0.123</td><td>0.5</td><td>176.92</td><td>&quot;audio_features&quot;</td><td>&quot;spotify:track:1E8Cztx0OIj4zm1I…</td><td>&quot;https://api.spotify.com/v1/tra…</td><td>&quot;https://api.spotify.com/v1/aud…</td><td>214427</td><td>3</td></tr><tr><td>&quot;7LN1f9jAIu7yxBzsLMN7RB&quot;</td><td>&quot;넘어와 (Feat. 백예린)&quot;</td><td>&quot;DEAN, Yerin Baek&quot;</td><td>&quot;spotify:track:7LN1f9jAIu7yxBzs…</td><td>0.496</td><td>0.63</td><td>6</td><td>-7.849</td><td>0</td><td>0.186</td><td>0.0747</td><td>0.0</td><td>0.638</td><td>0.318</td><td>168.225</td><td>&quot;audio_features&quot;</td><td>&quot;spotify:track:7LN1f9jAIu7yxBzs…</td><td>&quot;https://api.spotify.com/v1/tra…</td><td>&quot;https://api.spotify.com/v1/aud…</td><td>266137</td><td>4</td></tr><tr><td>&quot;1ouGYz9Qvou12hFOwYOV66&quot;</td><td>&quot;Dancing In The Rain&quot;</td><td>&quot;Rad Museum&quot;</td><td>&quot;spotify:track:1ouGYz9Qvou12hFO…</td><td>0.464</td><td>0.365</td><td>7</td><td>-9.582</td><td>0</td><td>0.0256</td><td>0.563</td><td>0.0</td><td>0.123</td><td>0.276</td><td>84.977</td><td>&quot;audio_features&quot;</td><td>&quot;spotify:track:1ouGYz9Qvou12hFO…</td><td>&quot;https://api.spotify.com/v1/tra…</td><td>&quot;https://api.spotify.com/v1/aud…</td><td>203000</td><td>4</td></tr></tbody></table></div>"
      ],
      "text/plain": [
       "shape: (5, 21)\n",
       "┌───────────┬───────────┬───────────┬───────────┬───┬───────────┬───────────┬───────────┬──────────┐\n",
       "│ id        ┆ name      ┆ artists   ┆ uri       ┆ … ┆ track_hre ┆ analysis_ ┆ duration_ ┆ time_sig │\n",
       "│ ---       ┆ ---       ┆ ---       ┆ ---       ┆   ┆ f         ┆ url       ┆ ms        ┆ nature   │\n",
       "│ str       ┆ str       ┆ str       ┆ str       ┆   ┆ ---       ┆ ---       ┆ ---       ┆ ---      │\n",
       "│           ┆           ┆           ┆           ┆   ┆ str       ┆ str       ┆ i64       ┆ i64      │\n",
       "╞═══════════╪═══════════╪═══════════╪═══════════╪═══╪═══════════╪═══════════╪═══════════╪══════════╡\n",
       "│ 1rsiw9Psb ┆ Bulldozer ┆ Swings    ┆ spotify:t ┆ … ┆ https://a ┆ https://a ┆ 204800    ┆ 4        │\n",
       "│ KWSb1O2QG ┆           ┆           ┆ rack:1rsi ┆   ┆ pi.spotif ┆ pi.spotif ┆           ┆          │\n",
       "│ XMHy      ┆           ┆           ┆ w9PsbKWSb ┆   ┆ y.com/v1/ ┆ y.com/v1/ ┆           ┆          │\n",
       "│           ┆           ┆           ┆ 1O2…      ┆   ┆ tra…      ┆ aud…      ┆           ┆          │\n",
       "│ 2NCa2i9SA ┆ Movie     ┆ PENOMECO  ┆ spotify:t ┆ … ┆ https://a ┆ https://a ┆ 210870    ┆ 4        │\n",
       "│ J0dSm8QlU ┆           ┆           ┆ rack:2NCa ┆   ┆ pi.spotif ┆ pi.spotif ┆           ┆          │\n",
       "│ zEB9      ┆           ┆           ┆ 2i9SAJ0dS ┆   ┆ y.com/v1/ ┆ y.com/v1/ ┆           ┆          │\n",
       "│           ┆           ┆           ┆ m8Q…      ┆   ┆ tra…      ┆ aud…      ┆           ┆          │\n",
       "│ 1E8Cztx0O ┆ Like A    ┆ NIve, Sam ┆ spotify:t ┆ … ┆ https://a ┆ https://a ┆ 214427    ┆ 3        │\n",
       "│ Ij4zm1IZh ┆ Fool      ┆ Kim       ┆ rack:1E8C ┆   ┆ pi.spotif ┆ pi.spotif ┆           ┆          │\n",
       "│ 2XXj      ┆           ┆           ┆ ztx0OIj4z ┆   ┆ y.com/v1/ ┆ y.com/v1/ ┆           ┆          │\n",
       "│           ┆           ┆           ┆ m1I…      ┆   ┆ tra…      ┆ aud…      ┆           ┆          │\n",
       "│ 7LN1f9jAI ┆ 넘어와    ┆ DEAN,     ┆ spotify:t ┆ … ┆ https://a ┆ https://a ┆ 266137    ┆ 4        │\n",
       "│ u7yxBzsLM ┆ (Feat.    ┆ Yerin     ┆ rack:7LN1 ┆   ┆ pi.spotif ┆ pi.spotif ┆           ┆          │\n",
       "│ N7RB      ┆ 백예린)   ┆ Baek      ┆ f9jAIu7yx ┆   ┆ y.com/v1/ ┆ y.com/v1/ ┆           ┆          │\n",
       "│           ┆           ┆           ┆ Bzs…      ┆   ┆ tra…      ┆ aud…      ┆           ┆          │\n",
       "│ 1ouGYz9Qv ┆ Dancing   ┆ Rad       ┆ spotify:t ┆ … ┆ https://a ┆ https://a ┆ 203000    ┆ 4        │\n",
       "│ ou12hFOwY ┆ In The    ┆ Museum    ┆ rack:1ouG ┆   ┆ pi.spotif ┆ pi.spotif ┆           ┆          │\n",
       "│ OV66      ┆ Rain      ┆           ┆ Yz9Qvou12 ┆   ┆ y.com/v1/ ┆ y.com/v1/ ┆           ┆          │\n",
       "│           ┆           ┆           ┆ hFO…      ┆   ┆ tra…      ┆ aud…      ┆           ┆          │\n",
       "└───────────┴───────────┴───────────┴───────────┴───┴───────────┴───────────┴───────────┴──────────┘"
      ]
     },
     "execution_count": 3,
     "metadata": {},
     "output_type": "execute_result"
    }
   ],
   "source": [
    "df = pl.read_csv(\"data/cleaned_data.csv\")\n",
    "df.head(5)"
   ]
  },
  {
   "cell_type": "code",
   "execution_count": 4,
   "id": "ec4a0ecb-dd06-4989-91b8-035d74a7e379",
   "metadata": {},
   "outputs": [
    {
     "ename": "ModuleNotFoundError",
     "evalue": "No module named 'pyarrow'",
     "output_type": "error",
     "traceback": [
      "\u001b[0;31m---------------------------------------------------------------------------\u001b[0m",
      "\u001b[0;31mModuleNotFoundError\u001b[0m                       Traceback (most recent call last)",
      "\u001b[0;32m/tmp/ipykernel_155/3262787987.py\u001b[0m in \u001b[0;36m?\u001b[0;34m()\u001b[0m\n\u001b[0;32m----> 1\u001b[0;31m \u001b[0mdf_pd\u001b[0m \u001b[0;34m=\u001b[0m \u001b[0mdf\u001b[0m\u001b[0;34m.\u001b[0m\u001b[0mto_pandas\u001b[0m\u001b[0;34m(\u001b[0m\u001b[0;34m)\u001b[0m\u001b[0;34m\u001b[0m\u001b[0;34m\u001b[0m\u001b[0m\n\u001b[0m",
      "\u001b[0;32m/opt/conda/envs/playlette/lib/python3.12/site-packages/polars/dataframe/frame.py\u001b[0m in \u001b[0;36m?\u001b[0;34m(self, use_pyarrow_extension_array, **kwargs)\u001b[0m\n\u001b[1;32m   2394\u001b[0m             return self._to_pandas_with_object_columns(\n\u001b[1;32m   2395\u001b[0m                 \u001b[0muse_pyarrow_extension_array\u001b[0m\u001b[0;34m=\u001b[0m\u001b[0muse_pyarrow_extension_array\u001b[0m\u001b[0;34m,\u001b[0m \u001b[0;34m**\u001b[0m\u001b[0mkwargs\u001b[0m\u001b[0;34m\u001b[0m\u001b[0;34m\u001b[0m\u001b[0m\n\u001b[1;32m   2396\u001b[0m             \u001b[0;34m)\u001b[0m\u001b[0;34m\u001b[0m\u001b[0;34m\u001b[0m\u001b[0m\n\u001b[1;32m   2397\u001b[0m \u001b[0;34m\u001b[0m\u001b[0m\n\u001b[0;32m-> 2398\u001b[0;31m         return self._to_pandas_without_object_columns(\n\u001b[0m\u001b[1;32m   2399\u001b[0m             \u001b[0mself\u001b[0m\u001b[0;34m,\u001b[0m \u001b[0muse_pyarrow_extension_array\u001b[0m\u001b[0;34m=\u001b[0m\u001b[0muse_pyarrow_extension_array\u001b[0m\u001b[0;34m,\u001b[0m \u001b[0;34m**\u001b[0m\u001b[0mkwargs\u001b[0m\u001b[0;34m\u001b[0m\u001b[0;34m\u001b[0m\u001b[0m\n\u001b[1;32m   2400\u001b[0m         \u001b[0;34m)\u001b[0m\u001b[0;34m\u001b[0m\u001b[0;34m\u001b[0m\u001b[0m\n",
      "\u001b[0;32m/opt/conda/envs/playlette/lib/python3.12/site-packages/polars/dataframe/frame.py\u001b[0m in \u001b[0;36m?\u001b[0;34m(self, df, use_pyarrow_extension_array, **kwargs)\u001b[0m\n\u001b[1;32m   2445\u001b[0m     \u001b[0;34m)\u001b[0m \u001b[0;34m->\u001b[0m \u001b[0mpd\u001b[0m\u001b[0;34m.\u001b[0m\u001b[0mDataFrame\u001b[0m\u001b[0;34m:\u001b[0m\u001b[0;34m\u001b[0m\u001b[0;34m\u001b[0m\u001b[0m\n\u001b[1;32m   2446\u001b[0m         \u001b[0;32mif\u001b[0m \u001b[0;32mnot\u001b[0m \u001b[0mdf\u001b[0m\u001b[0;34m.\u001b[0m\u001b[0mwidth\u001b[0m\u001b[0;34m:\u001b[0m  \u001b[0;31m# Empty dataframe, cannot infer schema from batches\u001b[0m\u001b[0;34m\u001b[0m\u001b[0;34m\u001b[0m\u001b[0m\n\u001b[1;32m   2447\u001b[0m             \u001b[0;32mreturn\u001b[0m \u001b[0mpd\u001b[0m\u001b[0;34m.\u001b[0m\u001b[0mDataFrame\u001b[0m\u001b[0;34m(\u001b[0m\u001b[0;34m)\u001b[0m\u001b[0;34m\u001b[0m\u001b[0;34m\u001b[0m\u001b[0m\n\u001b[1;32m   2448\u001b[0m \u001b[0;34m\u001b[0m\u001b[0m\n\u001b[0;32m-> 2449\u001b[0;31m         \u001b[0mrecord_batches\u001b[0m \u001b[0;34m=\u001b[0m \u001b[0mdf\u001b[0m\u001b[0;34m.\u001b[0m\u001b[0m_df\u001b[0m\u001b[0;34m.\u001b[0m\u001b[0mto_pandas\u001b[0m\u001b[0;34m(\u001b[0m\u001b[0;34m)\u001b[0m\u001b[0;34m\u001b[0m\u001b[0;34m\u001b[0m\u001b[0m\n\u001b[0m\u001b[1;32m   2450\u001b[0m         \u001b[0mtbl\u001b[0m \u001b[0;34m=\u001b[0m \u001b[0mpa\u001b[0m\u001b[0;34m.\u001b[0m\u001b[0mTable\u001b[0m\u001b[0;34m.\u001b[0m\u001b[0mfrom_batches\u001b[0m\u001b[0;34m(\u001b[0m\u001b[0mrecord_batches\u001b[0m\u001b[0;34m)\u001b[0m\u001b[0;34m\u001b[0m\u001b[0;34m\u001b[0m\u001b[0m\n\u001b[1;32m   2451\u001b[0m         \u001b[0;32mif\u001b[0m \u001b[0muse_pyarrow_extension_array\u001b[0m\u001b[0;34m:\u001b[0m\u001b[0;34m\u001b[0m\u001b[0;34m\u001b[0m\u001b[0m\n\u001b[1;32m   2452\u001b[0m             return tbl.to_pandas(\n",
      "\u001b[0;31mModuleNotFoundError\u001b[0m: No module named 'pyarrow'"
     ]
    }
   ],
   "source": [
    "df_pd = df.to_pandas()"
   ]
  },
  {
   "cell_type": "code",
   "execution_count": null,
   "id": "a5c14ba3-4e00-440a-a5ec-ba91bb00a172",
   "metadata": {},
   "outputs": [],
   "source": []
  }
 ],
 "metadata": {
  "kernelspec": {
   "display_name": "Python 3 (ipykernel)",
   "language": "python",
   "name": "python3"
  },
  "language_info": {
   "codemirror_mode": {
    "name": "ipython",
    "version": 3
   },
   "file_extension": ".py",
   "mimetype": "text/x-python",
   "name": "python",
   "nbconvert_exporter": "python",
   "pygments_lexer": "ipython3",
   "version": "3.12.7"
  }
 },
 "nbformat": 4,
 "nbformat_minor": 5
}
